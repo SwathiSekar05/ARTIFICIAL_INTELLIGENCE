{
 "cells": [
  {
   "cell_type": "code",
   "execution_count": null,
   "id": "c1b2bdbc-694c-4111-b103-5a3fecb7e612",
   "metadata": {},
   "outputs": [],
   "source": [
    "#In deployment phase 2,Once the Model is performing satisfactorily, we are deploying it to the end user/production where we can give real time inputs ."
   ]
  },
  {
   "cell_type": "code",
   "execution_count": 2,
   "id": "a1c7ac1b-44fa-4ca6-87f1-cb5403da3a22",
   "metadata": {},
   "outputs": [],
   "source": [
    "import pickle"
   ]
  },
  {
   "cell_type": "code",
   "execution_count": 3,
   "id": "aec3026e-8d29-48db-8055-03c40b08b4ba",
   "metadata": {},
   "outputs": [
    {
     "name": "stderr",
     "output_type": "stream",
     "text": [
      "C:\\Users\\sswat\\AppData\\Local\\anaconda3\\Lib\\site-packages\\sklearn\\base.py:439: UserWarning: X does not have valid feature names, but LinearRegression was fitted with feature names\n",
      "  warnings.warn(\n"
     ]
    }
   ],
   "source": [
    "Loaded_Model=pickle.load(open(\"Finalized_Simple_Linear_Model.sav\",'rb'))\n",
    "Result=Loaded_Model.predict([[0]])"
   ]
  },
  {
   "cell_type": "code",
   "execution_count": 4,
   "id": "290c2b31-0ad6-4eb5-8247-a549e187ec8e",
   "metadata": {},
   "outputs": [
    {
     "data": {
      "text/plain": [
       "array([[26777.3913412]])"
      ]
     },
     "execution_count": 4,
     "metadata": {},
     "output_type": "execute_result"
    }
   ],
   "source": [
    "Result"
   ]
  },
  {
   "cell_type": "code",
   "execution_count": null,
   "id": "f19ac4bc-cc2d-47be-9de3-d91931b692d7",
   "metadata": {},
   "outputs": [],
   "source": []
  }
 ],
 "metadata": {
  "kernelspec": {
   "display_name": "Python 3 (ipykernel)",
   "language": "python",
   "name": "python3"
  },
  "language_info": {
   "codemirror_mode": {
    "name": "ipython",
    "version": 3
   },
   "file_extension": ".py",
   "mimetype": "text/x-python",
   "name": "python",
   "nbconvert_exporter": "python",
   "pygments_lexer": "ipython3",
   "version": "3.11.7"
  }
 },
 "nbformat": 4,
 "nbformat_minor": 5
}
