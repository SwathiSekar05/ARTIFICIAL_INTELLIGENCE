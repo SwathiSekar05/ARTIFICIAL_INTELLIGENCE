{
 "cells": [
  {
   "cell_type": "code",
   "execution_count": null,
   "id": "409fcb7c-6166-4fe5-bcbc-60fa34177950",
   "metadata": {},
   "outputs": [],
   "source": [
    "# Create a function, and list out the items in the list"
   ]
  },
  {
   "cell_type": "code",
   "execution_count": 23,
   "id": "1fb995d5-06f5-4146-a30a-4e3b0e40cee1",
   "metadata": {},
   "outputs": [
    {
     "name": "stdout",
     "output_type": "stream",
     "text": [
      "subfields in AI are: \n",
      "Machine Learning\n",
      "Neural Networks\n",
      "Vision\n",
      "Robotics\n",
      "Speech Processing\n",
      "Natural Language Processing\n"
     ]
    }
   ],
   "source": [
    "Lists=[\"Machine Learning\",\"Neural Networks\",\"Vision\",\"Robotics\",\"Speech Processing\",\"Natural Language Processing\"] \n",
    "def Subfields():\n",
    "    for AI_lists in Lists:\n",
    "        print(AI_lists)\n",
    "print(\"subfields in AI are: \")\n",
    "Subfields()"
   ]
  },
  {
   "cell_type": "code",
   "execution_count": null,
   "id": "57e1b2d3-e030-4b99-a56b-cf8f532d897c",
   "metadata": {},
   "outputs": [],
   "source": [
    ": # Create a function that checks whether the given number is Odd or Even"
   ]
  },
  {
   "cell_type": "code",
   "execution_count": 4,
   "id": "9a374f75-b320-4cce-8258-a751a72d8b4d",
   "metadata": {},
   "outputs": [
    {
     "name": "stdin",
     "output_type": "stream",
     "text": [
      "enter a number : 9\n"
     ]
    },
    {
     "name": "stdout",
     "output_type": "stream",
     "text": [
      "9 is Odd number\n"
     ]
    },
    {
     "data": {
      "text/plain": [
       "'Odd number'"
      ]
     },
     "execution_count": 4,
     "metadata": {},
     "output_type": "execute_result"
    }
   ],
   "source": [
    "def Odd_or_Even(): \n",
    "    user_number=int(input(\"enter a number :\"))\n",
    "    if(user_number%2==0):\n",
    "        print(user_number,\"is Even number\")\n",
    "        text=\"Even Number\"\n",
    "    else:\n",
    "        print(user_number, \"is Odd number\")\n",
    "        text=\"Odd number\"\n",
    "    return(text)    \n",
    "Odd_or_Even()            \n",
    "    "
   ]
  },
  {
   "cell_type": "code",
   "execution_count": null,
   "id": "4ab34c87-f7fd-4d3e-90ba-11cdc83aa31e",
   "metadata": {},
   "outputs": [],
   "source": [
    " # Create a function that tells elegibility of marriage for male and female according to their age limit like 21 for male and 18 for female\n"
   ]
  },
  {
   "cell_type": "code",
   "execution_count": 10,
   "id": "da67ff6c-1703-4fa4-81c9-f1e5cba8d311",
   "metadata": {},
   "outputs": [
    {
     "name": "stdin",
     "output_type": "stream",
     "text": [
      "Your Gender:  Male\n"
     ]
    },
    {
     "name": "stdout",
     "output_type": "stream",
     "text": [
      "Your Gender: Male\n"
     ]
    },
    {
     "name": "stdin",
     "output_type": "stream",
     "text": [
      "Your Age: 20\n"
     ]
    },
    {
     "name": "stdout",
     "output_type": "stream",
     "text": [
      "Your Age: 20\n",
      "NOT ELIGIBLE\n"
     ]
    },
    {
     "data": {
      "text/plain": [
       "'NOT ELIGIBLE'"
      ]
     },
     "execution_count": 10,
     "metadata": {},
     "output_type": "execute_result"
    }
   ],
   "source": [
    "def Eligible():\n",
    "    Gender=input(\"Your Gender: \")\n",
    "    print(\"Your Gender:\", Gender)\n",
    "    Age=int(input(\"Your Age:\"))\n",
    "    print(\"Your Age:\", Age)\n",
    "    if(Gender==\"Female\"and Age>=18 or Gender==\"Male\" and Age>=21):\n",
    "        print(\"ELIGIBLE\")\n",
    "        message=\"ELIGIBE\"\n",
    "    else:\n",
    "        print(\"NOT ELIGIBLE\")\n",
    "        message=\"NOT ELIGIBLE\"\n",
    "    return (message) \n",
    "Eligible()  \n",
    "\n",
    "    "
   ]
  },
  {
   "cell_type": "code",
   "execution_count": null,
   "id": "328f0df8-888c-4c16-87c5-923db326d810",
   "metadata": {},
   "outputs": [],
   "source": []
  },
  {
   "cell_type": "code",
   "execution_count": null,
   "id": "2076e018-1438-4737-956d-bf3310630efd",
   "metadata": {},
   "outputs": [],
   "source": [
    "# calculate the percentage of your 10th mark"
   ]
  },
  {
   "cell_type": "code",
   "execution_count": 5,
   "id": "aff6513d-bb7c-4167-8a33-b048a9fc401d",
   "metadata": {},
   "outputs": [
    {
     "name": "stdin",
     "output_type": "stream",
     "text": [
      "Subject1= 98\n",
      "Subject2= 87\n",
      "Subject3= 95\n",
      "Subject4= 95\n",
      "Subject5= 93\n"
     ]
    },
    {
     "name": "stdout",
     "output_type": "stream",
     "text": [
      "Total = 468\n",
      "Percentage = 93.60000000000001\n"
     ]
    },
    {
     "data": {
      "text/plain": [
       "93.60000000000001"
      ]
     },
     "execution_count": 5,
     "metadata": {},
     "output_type": "execute_result"
    }
   ],
   "source": [
    "def percentage():\n",
    "    English=int(input(\"Subject1=\"))\n",
    "    Tamil=int(input(\"Subject2=\"))\n",
    "    Maths=int(input(\"Subject3=\"))\n",
    "    Science=int(input(\"Subject4=\"))\n",
    "    Social=int(input(\"Subject5=\"))\n",
    "    Total=English+Tamil+Maths+Science+Social\n",
    "    percentage=Total/500*100\n",
    "    print(\"Total =\",Total)\n",
    "    print(\"Percentage =\", percentage)\n",
    "    per=percentage\n",
    "    return per\n",
    "percentage()   \n",
    "    "
   ]
  },
  {
   "cell_type": "code",
   "execution_count": null,
   "id": "c63831fe-420e-4cb2-955c-212640cda967",
   "metadata": {},
   "outputs": [],
   "source": [
    "#print area and perimeter of triangle using class and functions\n"
   ]
  },
  {
   "cell_type": "code",
   "execution_count": 6,
   "id": "42d56ad5-803a-423a-8446-606d5c1c2954",
   "metadata": {},
   "outputs": [
    {
     "name": "stdin",
     "output_type": "stream",
     "text": [
      "Height: 32\n",
      "Breadth: 34\n"
     ]
    },
    {
     "name": "stdout",
     "output_type": "stream",
     "text": [
      "Area of Triangle: 544.0\n"
     ]
    },
    {
     "name": "stdin",
     "output_type": "stream",
     "text": [
      "Height1: 2\n",
      "Height2: 4\n",
      "breadth: 4\n"
     ]
    },
    {
     "name": "stdout",
     "output_type": "stream",
     "text": [
      "Perimeter of triangle: 10\n"
     ]
    }
   ],
   "source": [
    "def triangle():\n",
    "    h=int(input(\"Height:\"))\n",
    "    b=int(input(\"Breadth:\"))\n",
    "    Area=h*b/2\n",
    "    print(\"Area of Triangle:\",Area)\n",
    "    H1=int(input(\"Height1:\"))\n",
    "    H2=int(input(\"Height2:\")) \n",
    "    Br=int(input(\"breadth:\"))\n",
    "    Total=H1+H2+Br\n",
    "    print(\"Perimeter of triangle:\",Total)\n",
    "triangle()    \n",
    "          \n",
    "               \n"
   ]
  },
  {
   "cell_type": "code",
   "execution_count": null,
   "id": "474ebf95-bee5-42d9-97c8-78a5a7feb079",
   "metadata": {},
   "outputs": [],
   "source": []
  }
 ],
 "metadata": {
  "kernelspec": {
   "display_name": "Python 3 (ipykernel)",
   "language": "python",
   "name": "python3"
  },
  "language_info": {
   "codemirror_mode": {
    "name": "ipython",
    "version": 3
   },
   "file_extension": ".py",
   "mimetype": "text/x-python",
   "name": "python",
   "nbconvert_exporter": "python",
   "pygments_lexer": "ipython3",
   "version": "3.11.7"
  }
 },
 "nbformat": 4,
 "nbformat_minor": 5
}
