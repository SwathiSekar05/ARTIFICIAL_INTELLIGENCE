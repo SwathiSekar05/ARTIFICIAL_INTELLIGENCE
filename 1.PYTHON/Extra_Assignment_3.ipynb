{
 "cells": [
  {
   "cell_type": "code",
   "execution_count": null,
   "id": "33ffa6bc-889c-45dd-a3ba-2b4aa91f392a",
   "metadata": {},
   "outputs": [],
   "source": [
    "# print 'CORRECT' if i == 10"
   ]
  },
  {
   "cell_type": "code",
   "execution_count": 3,
   "id": "d4c242d3-d7a8-4e26-b3a4-b445627eb014",
   "metadata": {},
   "outputs": [
    {
     "name": "stdin",
     "output_type": "stream",
     "text": [
      "value:  10\n"
     ]
    },
    {
     "name": "stdout",
     "output_type": "stream",
     "text": [
      "Correct\n"
     ]
    }
   ],
   "source": [
    "i=int(input(\"value: \"))\n",
    "if(i==10):\n",
    "    print(\"Correct\")"
   ]
  },
  {
   "cell_type": "code",
   "execution_count": null,
   "id": "d8abf64b-dfb8-4c86-9c4a-21db1b5e074d",
   "metadata": {},
   "outputs": [],
   "source": [
    "# Check the password, using if and else\n"
   ]
  },
  {
   "cell_type": "code",
   "execution_count": 4,
   "id": "7e38ee5c-b606-4062-b1e3-f5adbf0d1efe",
   "metadata": {},
   "outputs": [
    {
     "name": "stdin",
     "output_type": "stream",
     "text": [
      "Enter the password:  HOPE@123\n"
     ]
    },
    {
     "name": "stdout",
     "output_type": "stream",
     "text": [
      "Your password is Correct\n"
     ]
    }
   ],
   "source": [
    "user_password=input(\"Enter the password: \")\n",
    "user_password='HOPE@123'\n",
    "if(user_password==user_password):\n",
    "    print(\"Your password is Correct\")            \n",
    "else:\n",
    "    print(\"Your password is inCorrect\")   "
   ]
  },
  {
   "cell_type": "code",
   "execution_count": null,
   "id": "6457e0ef-3ffb-4b88-8ad1-088bed5ac921",
   "metadata": {},
   "outputs": [],
   "source": [
    "# Catagory the people by their age like children, adult, citizen, senior citizen...\n"
   ]
  },
  {
   "cell_type": "code",
   "execution_count": 5,
   "id": "23a83a59-005e-4f07-a7c4-4c281e2e562a",
   "metadata": {},
   "outputs": [
    {
     "name": "stdin",
     "output_type": "stream",
     "text": [
      "age:  20\n"
     ]
    },
    {
     "name": "stdout",
     "output_type": "stream",
     "text": [
      "Adult\n"
     ]
    }
   ],
   "source": [
    "user_age=int(input(\"age: \"))\n",
    "if(user_age<8):\n",
    "    print(\"Children\")\n",
    "elif(user_age<17):\n",
    "    print(\"Teenage\")    \n",
    "elif(user_age<45):\n",
    "    print(\"Adult\") \n",
    "else:\n",
    "    print(\"Elderly\")"
   ]
  },
  {
   "cell_type": "code",
   "execution_count": null,
   "id": "a5ad9618-c3bb-4095-b00a-42ccbdf6dc15",
   "metadata": {},
   "outputs": [],
   "source": [
    "# Find whether given number is positive or negative"
   ]
  },
  {
   "cell_type": "code",
   "execution_count": 6,
   "id": "f31755c7-57da-4d17-9988-8c6d5f70d242",
   "metadata": {},
   "outputs": [
    {
     "name": "stdin",
     "output_type": "stream",
     "text": [
      "Enter any number: 1\n"
     ]
    },
    {
     "name": "stdout",
     "output_type": "stream",
     "text": [
      "No is positive\n"
     ]
    }
   ],
   "source": [
    "number=int(input(\"Enter any number:\"))\n",
    "if(number<0):\n",
    "    print(\"No is negative\")\n",
    "else:\n",
    "    print(\"No is positive\")"
   ]
  },
  {
   "cell_type": "code",
   "execution_count": null,
   "id": "f085d4df-a90b-48a4-b064-3b5057d07093",
   "metadata": {},
   "outputs": [],
   "source": [
    " # Check whether the given number is divisible by 5\n"
   ]
  },
  {
   "cell_type": "code",
   "execution_count": 7,
   "id": "ff33461c-917e-48cf-a9ae-4648e1a7986d",
   "metadata": {},
   "outputs": [
    {
     "name": "stdin",
     "output_type": "stream",
     "text": [
      "Enter a number to check: 22\n"
     ]
    },
    {
     "name": "stdout",
     "output_type": "stream",
     "text": [
      "No is not divisible by 5 \n"
     ]
    }
   ],
   "source": [
    "number=int(input(\"Enter a number to check:\"))\n",
    "if((number%5==0)):\n",
    "    print(\"No is divisible by 5 \")\n",
    "else:\n",
    "    print(\"No is not divisible by 5 \")"
   ]
  },
  {
   "cell_type": "code",
   "execution_count": 2,
   "id": "969b7471-b15d-42e2-a836-89eafba798bd",
   "metadata": {},
   "outputs": [
    {
     "ename": "NameError",
     "evalue": "name 'user_age' is not defined",
     "output_type": "error",
     "traceback": [
      "\u001b[1;31m---------------------------------------------------------------------------\u001b[0m",
      "\u001b[1;31mNameError\u001b[0m                                 Traceback (most recent call last)",
      "Cell \u001b[1;32mIn[2], line 3\u001b[0m\n\u001b[0;32m      1\u001b[0m \u001b[38;5;28;01mdef\u001b[39;00m \u001b[38;5;21mAgecalculator\u001b[39m():\n\u001b[0;32m      2\u001b[0m     use_age\u001b[38;5;241m=\u001b[39m\u001b[38;5;28mint\u001b[39m(\u001b[38;5;28minput\u001b[39m(\u001b[38;5;124m\"\u001b[39m\u001b[38;5;124mage: \u001b[39m\u001b[38;5;124m\"\u001b[39m))\n\u001b[1;32m----> 3\u001b[0m \u001b[38;5;28;01mif\u001b[39;00m(user_age\u001b[38;5;241m<\u001b[39m\u001b[38;5;241m8\u001b[39m):\n\u001b[0;32m      4\u001b[0m     \u001b[38;5;28mprint\u001b[39m(\u001b[38;5;124m\"\u001b[39m\u001b[38;5;124mChildren\u001b[39m\u001b[38;5;124m\"\u001b[39m)\n\u001b[0;32m      5\u001b[0m \u001b[38;5;28;01melif\u001b[39;00m(user_age\u001b[38;5;241m<\u001b[39m\u001b[38;5;241m17\u001b[39m):\n",
      "\u001b[1;31mNameError\u001b[0m: name 'user_age' is not defined"
     ]
    }
   ],
   "source": [
    "def Agecalculator():\n",
    "    use_age=int(input(\"age: \"))\n",
    "if(user_age<8):\n",
    "    print(\"Children\")\n",
    "elif(user_age<17):\n",
    "    print(\"Teenage\")    \n",
    "elif(user_age<45):\n",
    "    print(\"Adult\") \n",
    "else:\n",
    "    print(\"Elderly\")\n",
    "    \n",
    "\n",
    "    "
   ]
  },
  {
   "cell_type": "code",
   "execution_count": null,
   "id": "3f2a5dc8-579b-41c4-8c8c-745cde10a7c5",
   "metadata": {},
   "outputs": [],
   "source": []
  }
 ],
 "metadata": {
  "kernelspec": {
   "display_name": "Python 3 (ipykernel)",
   "language": "python",
   "name": "python3"
  },
  "language_info": {
   "codemirror_mode": {
    "name": "ipython",
    "version": 3
   },
   "file_extension": ".py",
   "mimetype": "text/x-python",
   "name": "python",
   "nbconvert_exporter": "python",
   "pygments_lexer": "ipython3",
   "version": "3.11.7"
  }
 },
 "nbformat": 4,
 "nbformat_minor": 5
}
