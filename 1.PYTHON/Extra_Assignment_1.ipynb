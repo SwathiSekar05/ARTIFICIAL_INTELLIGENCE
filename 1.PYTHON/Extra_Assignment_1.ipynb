{
 "cells": [
  {
   "cell_type": "code",
   "execution_count": 1,
   "id": "2a60721b-b15f-458e-abce-19e37e2a96b5",
   "metadata": {},
   "outputs": [],
   "source": [
    "#print statement"
   ]
  },
  {
   "cell_type": "code",
   "execution_count": 10,
   "id": "308dadf4-9301-4951-915a-3e35f7260c6d",
   "metadata": {},
   "outputs": [
    {
     "name": "stdout",
     "output_type": "stream",
     "text": [
      "Hope AI\n"
     ]
    }
   ],
   "source": [
    "print(\"Hope AI\")"
   ]
  },
  {
   "cell_type": "code",
   "execution_count": 3,
   "id": "f6aa1fbb-8d99-4ba7-b9b4-81b0f64f40f5",
   "metadata": {},
   "outputs": [],
   "source": [
    "#buy input"
   ]
  },
  {
   "cell_type": "code",
   "execution_count": 11,
   "id": "0077d586-6e1f-44d7-a30c-0886ab98ae8f",
   "metadata": {},
   "outputs": [
    {
     "name": "stdin",
     "output_type": "stream",
     "text": [
      "Enter your institute name? :  HOPE AI\n"
     ]
    }
   ],
   "source": [
    "user_institute_name=input(\"Enter your institute name? : \")"
   ]
  },
  {
   "cell_type": "code",
   "execution_count": 5,
   "id": "49c5836b-ea9d-4338-9cd1-1781242395d4",
   "metadata": {},
   "outputs": [],
   "source": [
    "#buy inputs"
   ]
  },
  {
   "cell_type": "code",
   "execution_count": 7,
   "id": "13261c8d-9b4b-4c01-877e-58645600c31e",
   "metadata": {},
   "outputs": [
    {
     "name": "stdin",
     "output_type": "stream",
     "text": [
      "Enter your name: Raj\n",
      "Enter your age: 18\n",
      "Enter your school name: Guru School\n",
      "Enter your degree: B.E CSE\n"
     ]
    }
   ],
   "source": [
    "user_details=input(\"Enter your name:\")\n",
    "user_details=int(input(\"Enter your age:\"))\n",
    "user_details=input(\"Enter your school name:\")\n",
    "user_details=input(\"Enter your degree:\")"
   ]
  },
  {
   "cell_type": "code",
   "execution_count": 2,
   "id": "32aae596-fb20-4a28-bdcd-baa91bf9cec5",
   "metadata": {},
   "outputs": [
    {
     "name": "stdout",
     "output_type": "stream",
     "text": [
      "a = 43\n",
      "b = 34\n",
      "add = 77\n"
     ]
    }
   ],
   "source": [
    "a=43\n",
    "b=34\n",
    "add=a+b\n",
    "print(\"a =\",a)\n",
    "print(\"b =\",b)\n",
    "print(\"add =\",add)"
   ]
  },
  {
   "cell_type": "code",
   "execution_count": null,
   "id": "57b4a235-398b-48ef-bd94-065c718c40ff",
   "metadata": {},
   "outputs": [],
   "source": [
    "#subraction "
   ]
  },
  {
   "cell_type": "code",
   "execution_count": 4,
   "id": "ee1b8190-12cc-4f12-92aa-a889ad04b69d",
   "metadata": {},
   "outputs": [
    {
     "name": "stdout",
     "output_type": "stream",
     "text": [
      "a = 43\n",
      "b = 34\n",
      "Sub = 9\n"
     ]
    }
   ],
   "source": [
    "a=43\n",
    "b=34\n",
    "sub=a-b\n",
    "print(\"a =\",a)\n",
    "print(\"b =\",b)\n",
    "print(\"Sub =\",sub)"
   ]
  },
  {
   "cell_type": "code",
   "execution_count": null,
   "id": "ef0e4513-d955-4870-991c-9d78f6decc55",
   "metadata": {},
   "outputs": [],
   "source": [
    "#multiplication"
   ]
  },
  {
   "cell_type": "code",
   "execution_count": 5,
   "id": "7bcc1f95-421d-4a02-b3ff-9078a564df56",
   "metadata": {},
   "outputs": [
    {
     "name": "stdout",
     "output_type": "stream",
     "text": [
      "a = 63\n",
      "b = 97\n",
      "Mul = 6111\n"
     ]
    }
   ],
   "source": [
    "a=63\n",
    "b=97\n",
    "mul=63*97\n",
    "print(\"a =\",a)\n",
    "print(\"b =\",b)\n",
    "print(\"Mul =\",mul)"
   ]
  },
  {
   "cell_type": "code",
   "execution_count": null,
   "id": "382b147c-8e96-4362-9b39-c4a123cfe03a",
   "metadata": {},
   "outputs": [],
   "source": [
    "#Division"
   ]
  },
  {
   "cell_type": "code",
   "execution_count": 6,
   "id": "8476ee87-312c-4a2e-ab20-31d41f244542",
   "metadata": {},
   "outputs": [
    {
     "name": "stdout",
     "output_type": "stream",
     "text": [
      "a = 76\n",
      "b = 31\n",
      "Float Div = 2.4516129032258065\n"
     ]
    }
   ],
   "source": [
    "a=76\n",
    "b=31\n",
    "div=76/31\n",
    "print(\"a =\",a)\n",
    "print(\"b =\",b)\n",
    "print(\"Float Div =\",div)"
   ]
  },
  {
   "cell_type": "code",
   "execution_count": null,
   "id": "0a07c17a-78e5-4af9-b573-799c726cbf26",
   "metadata": {},
   "outputs": [],
   "source": [
    "#Floor division"
   ]
  },
  {
   "cell_type": "code",
   "execution_count": 7,
   "id": "a54bc6c9-fc52-4c12-bc23-d422fdc5245a",
   "metadata": {},
   "outputs": [
    {
     "name": "stdout",
     "output_type": "stream",
     "text": [
      "a = 76\n",
      "b = 31\n",
      "Floor Div = 2\n"
     ]
    }
   ],
   "source": [
    "a=76\n",
    "b=31\n",
    "floor_div=76//31\n",
    "print(\"a =\",a)\n",
    "print(\"b =\",b)\n",
    "print(\"Floor Div =\",floor_div)"
   ]
  },
  {
   "cell_type": "code",
   "execution_count": null,
   "id": "56b62f0e-6ee4-46cd-b756-e8e128644b4e",
   "metadata": {},
   "outputs": [],
   "source": [
    "#Modulo"
   ]
  },
  {
   "cell_type": "code",
   "execution_count": 8,
   "id": "946282c4-a203-4d95-be9d-aff495275861",
   "metadata": {},
   "outputs": [
    {
     "name": "stdout",
     "output_type": "stream",
     "text": [
      "a = 76\n",
      "b = 31\n",
      "Modulo = 14\n"
     ]
    }
   ],
   "source": [
    "a=76\n",
    "b=31\n",
    "mod=76%31\n",
    "print(\"a =\",a)\n",
    "print(\"b =\",b)\n",
    "print(\"Modulo =\",mod)"
   ]
  },
  {
   "cell_type": "code",
   "execution_count": null,
   "id": "c39f734a-cc9b-45bd-9864-c39aa69e809c",
   "metadata": {},
   "outputs": [],
   "source": [
    "#power"
   ]
  },
  {
   "cell_type": "code",
   "execution_count": 9,
   "id": "e9578603-f14e-43dc-b304-94b8afed3bc3",
   "metadata": {},
   "outputs": [
    {
     "name": "stdout",
     "output_type": "stream",
     "text": [
      "a = 4\n",
      "b = 4\n",
      "Power = 256\n"
     ]
    }
   ],
   "source": [
    "a=4\n",
    "b=4\n",
    "power=a**b\n",
    "print(\"a =\",a)\n",
    "print(\"b =\",b)\n",
    "print(\"Power =\",power)"
   ]
  },
  {
   "cell_type": "code",
   "execution_count": null,
   "id": "80de689c-e2c9-4840-8f6b-6b91b0274b2a",
   "metadata": {},
   "outputs": [],
   "source": []
  }
 ],
 "metadata": {
  "kernelspec": {
   "display_name": "Python 3 (ipykernel)",
   "language": "python",
   "name": "python3"
  },
  "language_info": {
   "codemirror_mode": {
    "name": "ipython",
    "version": 3
   },
   "file_extension": ".py",
   "mimetype": "text/x-python",
   "name": "python",
   "nbconvert_exporter": "python",
   "pygments_lexer": "ipython3",
   "version": "3.11.7"
  }
 },
 "nbformat": 4,
 "nbformat_minor": 5
}
