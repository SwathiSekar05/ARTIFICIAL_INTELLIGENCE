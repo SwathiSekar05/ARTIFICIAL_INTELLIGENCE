{
 "cells": [
  {
   "cell_type": "code",
   "execution_count": 6,
   "id": "28d671c3-7614-4adc-b7d0-9f565ec496e2",
   "metadata": {},
   "outputs": [
    {
     "name": "stdin",
     "output_type": "stream",
     "text": [
      "Enter the number: 19\n"
     ]
    },
    {
     "name": "stdout",
     "output_type": "stream",
     "text": [
      "11 X 19 = 209\n",
      "12 X 19 = 228\n",
      "13 X 19 = 247\n",
      "14 X 19 = 266\n",
      "15 X 19 = 285\n",
      "16 X 19 = 304\n",
      "17 X 19 = 323\n",
      "18 X 19 = 342\n",
      "19 X 19 = 361\n",
      "20 X 19 = 380\n",
      "21 X 19 = 399\n",
      "22 X 19 = 418\n",
      "23 X 19 = 437\n",
      "24 X 19 = 456\n",
      "25 X 19 = 475\n",
      "26 X 19 = 494\n",
      "27 X 19 = 513\n",
      "28 X 19 = 532\n",
      "29 X 19 = 551\n",
      "30 X 19 = 570\n"
     ]
    }
   ],
   "source": [
    "Multiplication_number=int(input(\"Enter the number:\"))\n",
    "for Table in range(11,31):\n",
    "    print(Table,'X',Multiplication_number,'=',Multiplication_number*Table)"
   ]
  },
  {
   "cell_type": "code",
   "execution_count": null,
   "id": "09bfb4b3-a53d-47a9-aeda-227a44c3ab7e",
   "metadata": {},
   "outputs": [],
   "source": []
  }
 ],
 "metadata": {
  "kernelspec": {
   "display_name": "Python 3 (ipykernel)",
   "language": "python",
   "name": "python3"
  },
  "language_info": {
   "codemirror_mode": {
    "name": "ipython",
    "version": 3
   },
   "file_extension": ".py",
   "mimetype": "text/x-python",
   "name": "python",
   "nbconvert_exporter": "python",
   "pygments_lexer": "ipython3",
   "version": "3.11.7"
  }
 },
 "nbformat": 4,
 "nbformat_minor": 5
}
