{
 "cells": [
  {
   "cell_type": "code",
   "execution_count": 1,
   "id": "cf82af60-3192-4f63-b400-d9ee22b11be3",
   "metadata": {},
   "outputs": [
    {
     "name": "stdout",
     "output_type": "stream",
     "text": [
      "-Your name-\n",
      "-your Age -\n",
      "-your profession-\n"
     ]
    }
   ],
   "source": [
    "Lists=['-Your name-','-your Age -','-your profession-']\n",
    "for user in Lists:\n",
    "    print(user)"
   ]
  }
 ],
 "metadata": {
  "kernelspec": {
   "display_name": "Python 3 (ipykernel)",
   "language": "python",
   "name": "python3"
  },
  "language_info": {
   "codemirror_mode": {
    "name": "ipython",
    "version": 3
   },
   "file_extension": ".py",
   "mimetype": "text/x-python",
   "name": "python",
   "nbconvert_exporter": "python",
   "pygments_lexer": "ipython3",
   "version": "3.11.7"
  }
 },
 "nbformat": 4,
 "nbformat_minor": 5
}
