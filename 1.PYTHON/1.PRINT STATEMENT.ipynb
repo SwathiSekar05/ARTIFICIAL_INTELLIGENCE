{
 "cells": [
  {
   "cell_type": "markdown",
   "id": "d1d25eab-1240-45f2-9469-c961a8cced6f",
   "metadata": {},
   "source": [
    "PRINT STATEMENT"
   ]
  },
  {
   "cell_type": "raw",
   "id": "8b67100f-a4e2-4128-a37b-049c02c5b506",
   "metadata": {},
   "source": [
    "print()"
   ]
  },
  {
   "cell_type": "code",
   "execution_count": 1,
   "id": "4cc57b59-3730-4436-ab4e-c6110544a0a6",
   "metadata": {},
   "outputs": [
    {
     "name": "stdout",
     "output_type": "stream",
     "text": [
      "Learning AI\n"
     ]
    }
   ],
   "source": [
    "print(\"Learning AI\")"
   ]
  },
  {
   "cell_type": "code",
   "execution_count": 2,
   "id": "68a0d1b7-fbf4-4de8-a670-4fdfa1a7f926",
   "metadata": {},
   "outputs": [
    {
     "name": "stdout",
     "output_type": "stream",
     "text": [
      "123@#$\n"
     ]
    }
   ],
   "source": [
    "print(\"123@#$\")"
   ]
  },
  {
   "cell_type": "code",
   "execution_count": 3,
   "id": "3d473322-9b06-4f68-873b-469cbfb84786",
   "metadata": {},
   "outputs": [
    {
     "ename": "NameError",
     "evalue": "name 'Print' is not defined",
     "output_type": "error",
     "traceback": [
      "\u001b[1;31m---------------------------------------------------------------------------\u001b[0m",
      "\u001b[1;31mNameError\u001b[0m                                 Traceback (most recent call last)",
      "Cell \u001b[1;32mIn[3], line 1\u001b[0m\n\u001b[1;32m----> 1\u001b[0m Print(\u001b[38;5;124m\"\u001b[39m\u001b[38;5;124mLearning AI\u001b[39m\u001b[38;5;124m\"\u001b[39m)\n",
      "\u001b[1;31mNameError\u001b[0m: name 'Print' is not defined"
     ]
    }
   ],
   "source": [
    "Print(\"Learning AI\")"
   ]
  },
  {
   "cell_type": "code",
   "execution_count": 4,
   "id": "4c9dae78-603f-40fb-93ad-a172a61d618f",
   "metadata": {},
   "outputs": [],
   "source": [
    "num1=10\n",
    "num2=20\n",
    "add=num1+num2"
   ]
  },
  {
   "cell_type": "code",
   "execution_count": 5,
   "id": "7c0bbabf-b220-4282-94ce-eaff0e2e286b",
   "metadata": {},
   "outputs": [
    {
     "name": "stdout",
     "output_type": "stream",
     "text": [
      "30\n"
     ]
    }
   ],
   "source": [
    "print(add)"
   ]
  },
  {
   "cell_type": "code",
   "execution_count": 6,
   "id": "a76652b8-abca-42b0-bd3d-c65a19e97a67",
   "metadata": {},
   "outputs": [
    {
     "name": "stdout",
     "output_type": "stream",
     "text": [
      "Add\n",
      "30\n"
     ]
    }
   ],
   "source": [
    "print(\"Add\")\n",
    "print(add)"
   ]
  },
  {
   "cell_type": "code",
   "execution_count": 11,
   "id": "51b11f13-2e31-4249-a933-cb521e0ecd72",
   "metadata": {},
   "outputs": [],
   "source": [
    "firstname=\"swathi\""
   ]
  },
  {
   "cell_type": "code",
   "execution_count": 12,
   "id": "f65f4b6d-3a08-4e02-9dcd-8f5d02b8064c",
   "metadata": {},
   "outputs": [
    {
     "name": "stdout",
     "output_type": "stream",
     "text": [
      "swathi\n"
     ]
    }
   ],
   "source": [
    "print(firstname)"
   ]
  },
  {
   "cell_type": "code",
   "execution_count": 13,
   "id": "eb840bb4-a952-4c8d-a5d1-6d060111d9c3",
   "metadata": {},
   "outputs": [],
   "source": [
    "firstname=\"Swathi\"\n",
    "Lastname=\"sekar\""
   ]
  },
  {
   "cell_type": "code",
   "execution_count": 19,
   "id": "61651187-ce7d-4846-9f15-00dbdabc7496",
   "metadata": {},
   "outputs": [
    {
     "name": "stdin",
     "output_type": "stream",
     "text": [
      "Enter the weight: 59\n"
     ]
    }
   ],
   "source": [
    "weight=int(input(\"Enter the weight:\"))"
   ]
  },
  {
   "cell_type": "code",
   "execution_count": 20,
   "id": "b576eb83-0e71-4884-ac42-70cc1d991258",
   "metadata": {},
   "outputs": [
    {
     "name": "stdout",
     "output_type": "stream",
     "text": [
      "59\n"
     ]
    }
   ],
   "source": [
    "print(weight)"
   ]
  },
  {
   "cell_type": "code",
   "execution_count": 22,
   "id": "39e36f69-ca28-4e13-a14f-3fe0053a0cfe",
   "metadata": {},
   "outputs": [
    {
     "name": "stdout",
     "output_type": "stream",
     "text": [
      "overweight\n"
     ]
    }
   ],
   "source": [
    "if(weight<55):\n",
    "    print(\"medium weight\")\n",
    "else:\n",
    "    print(\"overweight\")\n",
    "\n"
   ]
  },
  {
   "cell_type": "code",
   "execution_count": null,
   "id": "b815ff6c-f7d1-4844-96fd-a6a7662e2b1e",
   "metadata": {},
   "outputs": [],
   "source": []
  }
 ],
 "metadata": {
  "kernelspec": {
   "display_name": "Python 3 (ipykernel)",
   "language": "python",
   "name": "python3"
  },
  "language_info": {
   "codemirror_mode": {
    "name": "ipython",
    "version": 3
   },
   "file_extension": ".py",
   "mimetype": "text/x-python",
   "name": "python",
   "nbconvert_exporter": "python",
   "pygments_lexer": "ipython3",
   "version": "3.11.7"
  }
 },
 "nbformat": 4,
 "nbformat_minor": 5
}
