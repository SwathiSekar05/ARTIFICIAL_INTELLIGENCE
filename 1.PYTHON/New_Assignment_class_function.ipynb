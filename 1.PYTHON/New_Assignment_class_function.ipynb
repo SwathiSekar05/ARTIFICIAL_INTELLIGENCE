{
 "cells": [
  {
   "cell_type": "code",
   "execution_count": 1,
   "id": "20b1ae47-65bc-4d12-8160-110864be7d05",
   "metadata": {},
   "outputs": [],
   "source": [
    "from Codingclass import Queries"
   ]
  },
  {
   "cell_type": "code",
   "execution_count": 2,
   "id": "a1d2b610-ed49-45d7-a6a7-722d9a443233",
   "metadata": {},
   "outputs": [
    {
     "name": "stdin",
     "output_type": "stream",
     "text": [
      "enter a number : 52452\n"
     ]
    },
    {
     "name": "stdout",
     "output_type": "stream",
     "text": [
      "52452 is Even number\n"
     ]
    },
    {
     "data": {
      "text/plain": [
       "'Even Number'"
      ]
     },
     "execution_count": 2,
     "metadata": {},
     "output_type": "execute_result"
    }
   ],
   "source": [
    "Queries.Odd_or_Even()"
   ]
  },
  {
   "cell_type": "code",
   "execution_count": 3,
   "id": "b38c9ed1-beb7-499e-856d-6a50882788b2",
   "metadata": {},
   "outputs": [
    {
     "name": "stdin",
     "output_type": "stream",
     "text": [
      "Your Gender:  Female\n"
     ]
    },
    {
     "name": "stdout",
     "output_type": "stream",
     "text": [
      "Your Gender: Female\n"
     ]
    },
    {
     "name": "stdin",
     "output_type": "stream",
     "text": [
      "Your Age: 29\n"
     ]
    },
    {
     "name": "stdout",
     "output_type": "stream",
     "text": [
      "Your Age: 29\n",
      "ELIGIBLE\n"
     ]
    },
    {
     "data": {
      "text/plain": [
       "'ELIGIBE'"
      ]
     },
     "execution_count": 3,
     "metadata": {},
     "output_type": "execute_result"
    }
   ],
   "source": [
    "Queries.Eligible()"
   ]
  },
  {
   "cell_type": "code",
   "execution_count": 4,
   "id": "cd476b02-16a2-409d-a4ea-4f4b59b3d724",
   "metadata": {},
   "outputs": [
    {
     "name": "stdin",
     "output_type": "stream",
     "text": [
      "Subject1= 93\n",
      "Subject2= 95\n",
      "Subject3= 95\n",
      "Subject4= 87\n",
      "Subject5= 93\n"
     ]
    },
    {
     "name": "stdout",
     "output_type": "stream",
     "text": [
      "Total = 463\n",
      "Percentage = 92.60000000000001\n"
     ]
    },
    {
     "data": {
      "text/plain": [
       "92.60000000000001"
      ]
     },
     "execution_count": 4,
     "metadata": {},
     "output_type": "execute_result"
    }
   ],
   "source": [
    "Queries.percentage()"
   ]
  },
  {
   "cell_type": "code",
   "execution_count": 5,
   "id": "74ca74bb-150b-42fb-8d96-773236f12bcf",
   "metadata": {},
   "outputs": [
    {
     "name": "stdin",
     "output_type": "stream",
     "text": [
      "Height: 30\n",
      "Breadth: 40\n"
     ]
    },
    {
     "name": "stdout",
     "output_type": "stream",
     "text": [
      "Area of Triangle: 600.0\n"
     ]
    },
    {
     "name": "stdin",
     "output_type": "stream",
     "text": [
      "Height1: 50\n",
      "Height2: 30\n",
      "breadth: 90\n"
     ]
    },
    {
     "name": "stdout",
     "output_type": "stream",
     "text": [
      "Perimeter of triangle: 170\n"
     ]
    }
   ],
   "source": [
    "Queries.triangle()"
   ]
  },
  {
   "cell_type": "code",
   "execution_count": 2,
   "id": "7d68a628-ba3b-490c-ba4f-a122435ccce7",
   "metadata": {},
   "outputs": [
    {
     "name": "stdout",
     "output_type": "stream",
     "text": [
      "subfields in AI are: \n",
      "Machine Learning\n",
      "Neural Networks\n",
      "Vision\n",
      "Robotics\n",
      "Speech Processing\n",
      "Natural Language Processing\n"
     ]
    }
   ],
   "source": [
    "Queries.subFields()"
   ]
  },
  {
   "cell_type": "code",
   "execution_count": null,
   "id": "6459ea1b-d65e-4215-9f15-669a06198915",
   "metadata": {},
   "outputs": [],
   "source": []
  }
 ],
 "metadata": {
  "kernelspec": {
   "display_name": "Python 3 (ipykernel)",
   "language": "python",
   "name": "python3"
  },
  "language_info": {
   "codemirror_mode": {
    "name": "ipython",
    "version": 3
   },
   "file_extension": ".py",
   "mimetype": "text/x-python",
   "name": "python",
   "nbconvert_exporter": "python",
   "pygments_lexer": "ipython3",
   "version": "3.11.7"
  }
 },
 "nbformat": 4,
 "nbformat_minor": 5
}
