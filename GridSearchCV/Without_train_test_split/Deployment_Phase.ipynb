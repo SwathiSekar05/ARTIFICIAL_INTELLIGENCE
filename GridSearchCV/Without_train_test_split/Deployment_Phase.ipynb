{
 "cells": [
  {
   "cell_type": "code",
   "execution_count": 1,
   "id": "366f2e48-b06a-48ec-a308-570c5f3be3e9",
   "metadata": {},
   "outputs": [],
   "source": [
    "import pandas as pd\n",
    "import pickle"
   ]
  },
  {
   "cell_type": "code",
   "execution_count": 2,
   "id": "56b63276-badc-4bdb-b993-9c09e89d473b",
   "metadata": {},
   "outputs": [],
   "source": [
    "#Read csv\n",
    "Dataset=pd.read_csv('insurance_pre.csv')\n",
    "#get dummies\n",
    "Dataset=pd.get_dummies(Dataset,dtype=int,drop_first=True)\n",
    "#Independent\n",
    "Independent=Dataset[['age', 'bmi', 'children', 'sex_male', 'smoker_yes']]\n",
    "#Dependent\n",
    "Dependent=Dataset[[ 'charges']]\n",
    "#Standardisation\n",
    "from sklearn.preprocessing import StandardScaler\n",
    "sc=StandardScaler()\n",
    "Independent=sc.fit_transform(Independent)"
   ]
  },
  {
   "cell_type": "code",
   "execution_count": 6,
   "id": "3aef219f-dcb5-4659-b430-88d8f7a31b6c",
   "metadata": {},
   "outputs": [
    {
     "name": "stderr",
     "output_type": "stream",
     "text": [
      "C:\\Users\\sswat\\AppData\\Local\\anaconda3\\Lib\\site-packages\\sklearn\\base.py:439: UserWarning: X does not have valid feature names, but StandardScaler was fitted with feature names\n",
      "  warnings.warn(\n"
     ]
    },
    {
     "data": {
      "text/plain": [
       "array([[-0.37074641, -0.14327593,  0.75107928, -1.0105187 , -0.5074631 ]])"
      ]
     },
     "execution_count": 6,
     "metadata": {},
     "output_type": "execute_result"
    }
   ],
   "source": [
    "Preinput=sc.transform([[34,29.790,2,0,0]])\n",
    "Preinput"
   ]
  },
  {
   "cell_type": "code",
   "execution_count": 7,
   "id": "fcccdf7c-1c7a-4e15-ab99-d99fe89f6edd",
   "metadata": {},
   "outputs": [
    {
     "name": "stdout",
     "output_type": "stream",
     "text": [
      "Future_Prediction=[5989.52365]\n"
     ]
    }
   ],
   "source": [
    "loaded_model=pickle.load(open(\"finalized_model_Decision_Tree.sav\",'rb'))\n",
    "Future_Prediction=loaded_model.predict(Preinput)\n",
    "print(\"Future_Prediction={}\".format(Future_Prediction))"
   ]
  },
  {
   "cell_type": "code",
   "execution_count": null,
   "id": "ed39a3c7-456a-44a5-9c06-832f08d7c3be",
   "metadata": {},
   "outputs": [],
   "source": []
  },
  {
   "cell_type": "code",
   "execution_count": null,
   "id": "c35514f2-27c8-4f1b-a7c5-8a8387c938e1",
   "metadata": {},
   "outputs": [],
   "source": []
  }
 ],
 "metadata": {
  "kernelspec": {
   "display_name": "Python 3 (ipykernel)",
   "language": "python",
   "name": "python3"
  },
  "language_info": {
   "codemirror_mode": {
    "name": "ipython",
    "version": 3
   },
   "file_extension": ".py",
   "mimetype": "text/x-python",
   "name": "python",
   "nbconvert_exporter": "python",
   "pygments_lexer": "ipython3",
   "version": "3.11.7"
  }
 },
 "nbformat": 4,
 "nbformat_minor": 5
}
