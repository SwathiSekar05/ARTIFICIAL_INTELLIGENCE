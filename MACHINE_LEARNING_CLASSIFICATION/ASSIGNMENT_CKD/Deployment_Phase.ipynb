{
 "cells": [
  {
   "cell_type": "code",
   "execution_count": 1,
   "id": "3868e4cb-8954-4a2f-b079-ad57b453c492",
   "metadata": {},
   "outputs": [],
   "source": [
    "import pandas as pd\n",
    "import pickle"
   ]
  },
  {
   "cell_type": "code",
   "execution_count": 2,
   "id": "3c2aaa5f-8877-4dea-ae1f-b40d741222bb",
   "metadata": {},
   "outputs": [],
   "source": [
    "#Read csv\n",
    "dataset=pd.read_csv(\"CKD.csv\")\n",
    "#get dummies\n",
    "dataset=pd.get_dummies(dataset,dtype=int,drop_first=True)\n",
    "#Independent\n",
    "Independent=DatasetIndependent=dataset[['age', 'bp', 'al', 'su', 'bgr', 'bu', 'sc', 'sod', 'pot', 'hrmo', 'pcv','wc', 'rc', 'sg_b', 'sg_c', 'sg_d', 'sg_e', 'rbc_normal', 'pc_normal',\n",
    "       'pcc_present', 'ba_present', 'htn_yes', 'dm_yes', 'cad_yes','appet_yes', 'pe_yes', 'ane_yes']]\n",
    "#Dependent\n",
    "Dependent=dataset[[\"classification_yes\"]]\n",
    "from sklearn.model_selection import train_test_split\n",
    "X_train, X_test, y_train, y_test = train_test_split(Independent,Dependent, test_size = 1/3, random_state = 0)\n",
    "#Standardisation\n",
    "from sklearn.preprocessing import StandardScaler\n",
    "sc = StandardScaler()\n",
    "X_train = sc.fit_transform(X_train)\n",
    "X_test = sc.transform(X_test)"
   ]
  },
  {
   "cell_type": "code",
   "execution_count": 3,
   "id": "2222e0dc-08c1-43f5-8c1a-44b82f44d870",
   "metadata": {},
   "outputs": [
    {
     "name": "stderr",
     "output_type": "stream",
     "text": [
      "C:\\Users\\sswat\\AppData\\Local\\anaconda3\\Lib\\site-packages\\sklearn\\base.py:439: UserWarning: X does not have valid feature names, but StandardScaler was fitted with feature names\n",
      "  warnings.warn(\n"
     ]
    },
    {
     "data": {
      "text/plain": [
       "array([[-1.04452180e+00, -4.68876811e-02,  4.31675741e+01,\n",
       "         9.85032393e+01, -9.64824402e-01, -1.16253954e-01,\n",
       "         8.55517394e+00, -1.19331973e+01,  2.08206603e+02,\n",
       "         3.16306070e+01, -1.84633947e+00, -3.45706306e+00,\n",
       "         3.59258840e+01,  1.33150900e+02,  1.32661744e+02,\n",
       "         1.78260893e+02,  3.16486324e+02,  2.99722094e+01,\n",
       "         2.27334952e+01,  2.91547595e+00,  4.24264069e+00,\n",
       "         1.35269628e+00,  1.35269628e+00,  3.41565026e+00,\n",
       "         5.16397779e-01,  1.91485422e+00,  2.24620893e+00]])"
      ]
     },
     "execution_count": 3,
     "metadata": {},
     "output_type": "execute_result"
    }
   ],
   "source": [
    "Preinput=sc.transform([[35, 76, 54, 98, 76.00, 54, 54, 11.9, 467.9, 98.00, 24,18.9, 34, 53, 56, 67, 43, 11, 10,\n",
    "       1, 1, 1, 1, 1,1, 1, 1]])\n",
    "Preinput"
   ]
  },
  {
   "cell_type": "code",
   "execution_count": 4,
   "id": "721dabfc-bc17-4d03-9c1b-7aff118522f5",
   "metadata": {},
   "outputs": [
    {
     "name": "stdout",
     "output_type": "stream",
     "text": [
      "Future_Prediction=[1]\n"
     ]
    }
   ],
   "source": [
    "loaded_model=pickle.load(open(\"finalized_model_Logistic_Classiication.sav\",'rb'))\n",
    "Future_Prediction=loaded_model.predict(Preinput)\n",
    "print(\"Future_Prediction={}\".format(Future_Prediction))"
   ]
  },
  {
   "cell_type": "code",
   "execution_count": null,
   "id": "b7d5a28d-57a7-4033-a3b3-31882989948f",
   "metadata": {},
   "outputs": [],
   "source": []
  },
  {
   "cell_type": "code",
   "execution_count": null,
   "id": "3a72637e-e5c7-45d4-950b-bb8b020382af",
   "metadata": {},
   "outputs": [],
   "source": []
  }
 ],
 "metadata": {
  "kernelspec": {
   "display_name": "Python 3 (ipykernel)",
   "language": "python",
   "name": "python3"
  },
  "language_info": {
   "codemirror_mode": {
    "name": "ipython",
    "version": 3
   },
   "file_extension": ".py",
   "mimetype": "text/x-python",
   "name": "python",
   "nbconvert_exporter": "python",
   "pygments_lexer": "ipython3",
   "version": "3.11.7"
  }
 },
 "nbformat": 4,
 "nbformat_minor": 5
}
