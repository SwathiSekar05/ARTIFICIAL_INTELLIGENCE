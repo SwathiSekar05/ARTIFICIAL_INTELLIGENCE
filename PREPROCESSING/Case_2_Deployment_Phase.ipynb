{
 "cells": [
  {
   "cell_type": "code",
   "execution_count": 1,
   "id": "4348d27d-d968-49d3-a85a-5cc93d44384f",
   "metadata": {},
   "outputs": [],
   "source": [
    "import pandas as pd \n",
    "import pickle"
   ]
  },
  {
   "cell_type": "code",
   "execution_count": 2,
   "id": "72aba016-b3e0-4529-9f94-2bd27c2f34ee",
   "metadata": {},
   "outputs": [
    {
     "name": "stderr",
     "output_type": "stream",
     "text": [
      "C:\\Users\\sswat\\AppData\\Local\\anaconda3\\Lib\\site-packages\\sklearn\\base.py:439: UserWarning: X does not have valid feature names, but StandardScaler was fitted with feature names\n",
      "  warnings.warn(\n"
     ]
    },
    {
     "data": {
      "text/plain": [
       "array([[-0.53346019, -0.45767803, -0.89833872, -0.97676557,  1.98149332]])"
      ]
     },
     "execution_count": 2,
     "metadata": {},
     "output_type": "execute_result"
    }
   ],
   "source": [
    "scx=pickle.load(open('Standard_Scaler.pkl','rb'))\n",
    "Preinput=scx.transform([[32,27.900,0,0,1]])\n",
    "Preinput"
   ]
  },
  {
   "cell_type": "code",
   "execution_count": 3,
   "id": "8b075050-8e20-4f78-8f4c-a8099e9a7ebd",
   "metadata": {},
   "outputs": [
    {
     "name": "stdout",
     "output_type": "stream",
     "text": [
      "Result=[0.46616775]\n"
     ]
    }
   ],
   "source": [
    "loaded_model=pickle.load(open(\"finalized_model_Random_Forest_2.sav\",'rb'))\n",
    "Result=loaded_model.predict(Preinput)\n",
    "print(\"Result={}\".format(Result))"
   ]
  },
  {
   "cell_type": "code",
   "execution_count": 4,
   "id": "55e4dd23-dcab-437f-b322-e86986b7c1c3",
   "metadata": {},
   "outputs": [
    {
     "data": {
      "text/plain": [
       "array([[18768.0815883]])"
      ]
     },
     "execution_count": 4,
     "metadata": {},
     "output_type": "execute_result"
    }
   ],
   "source": [
    "ssxy=pickle.load(open('Standard_Scaler_XY.pkl','rb'))\n",
    "Preoutput=ssxy.inverse_transform([Result])\n",
    "Preoutput"
   ]
  },
  {
   "cell_type": "code",
   "execution_count": null,
   "id": "7b90450e-04f4-44b1-aec2-8c738b899009",
   "metadata": {},
   "outputs": [],
   "source": []
  },
  {
   "cell_type": "code",
   "execution_count": null,
   "id": "4b38ece8-fa69-41f5-88d3-b667ab1fc5af",
   "metadata": {},
   "outputs": [],
   "source": []
  }
 ],
 "metadata": {
  "kernelspec": {
   "display_name": "Python 3 (ipykernel)",
   "language": "python",
   "name": "python3"
  },
  "language_info": {
   "codemirror_mode": {
    "name": "ipython",
    "version": 3
   },
   "file_extension": ".py",
   "mimetype": "text/x-python",
   "name": "python",
   "nbconvert_exporter": "python",
   "pygments_lexer": "ipython3",
   "version": "3.11.7"
  }
 },
 "nbformat": 4,
 "nbformat_minor": 5
}
